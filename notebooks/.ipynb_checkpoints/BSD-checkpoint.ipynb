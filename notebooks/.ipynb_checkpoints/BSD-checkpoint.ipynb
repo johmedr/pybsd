{
 "cells": [
  {
   "cell_type": "code",
   "execution_count": 1,
   "id": "efd55f49",
   "metadata": {},
   "outputs": [],
   "source": [
    "from pybsd import *\n",
    "import numpy as np\n",
    "from jax import numpy as jnp \n",
    "from jax import grad, hessian, jit\n",
    "from collections import OrderedDict"
   ]
  },
  {
   "cell_type": "code",
   "execution_count": 45,
   "id": "8676ed78",
   "metadata": {},
   "outputs": [],
   "source": [
    "class BSD(VariationalLaplaceEstimator):\n",
    "    def __init__(self, Hz, freqs, *args, **kwargs): \n",
    "        pE, pC = self._prepare(freqs)\n",
    "        self.Hz = jnp.asarray(Hz)\n",
    "        \n",
    "        hE = jnp.array([10])\n",
    "        hC = jnp.array([1/256])\n",
    "        Q = jnp.eye(self.Hz.size)\n",
    "        \n",
    "        super().__init__(pE, pC, hE, hC, Q, *args, **kwargs)\n",
    "        \n",
    "    def _prepare(self, freqs):\n",
    "        freqs = jnp.asarray(freqs)\n",
    "        \n",
    "        if len(freqs.shape) == 1:\n",
    "            freqs = jnp.expand_dims(freqs, 0)\n",
    "            \n",
    "        if freqs.shape[1] != 2: \n",
    "            raise ValueError(f'Incorrect number of dimensions on frequency array.'\n",
    "                             f' Expecting (nfreqs, 2), got {freqs.shape}.')\n",
    "        \n",
    "        nf = freqs.shape[0]\n",
    "        W = (freqs[:, 1] - freqs[:, 0]).reshape((-1,1))\n",
    "        S = W**2 / (8 * jnp.log(2))\n",
    "        \n",
    "        self.freqs = freqs\n",
    "        self.nf = nf\n",
    "        self.S = S\n",
    "        self.W = W\n",
    "        \n",
    "        a = 0 * W\n",
    "        b = jnp.zeros((2,1))\n",
    "        \n",
    "        pE = OrderedDict(\n",
    "            f=0*W,\n",
    "            S=0*S, \n",
    "            a=a, \n",
    "            b=b\n",
    "        )\n",
    "        pC = OrderedDict(\n",
    "            f=0*W + 1,\n",
    "            S=0*S + 2, \n",
    "            a=0*a + 2, \n",
    "            b=0*b + 1\n",
    "         )\n",
    "        self._pStruct = pE\n",
    "        \n",
    "        return vectorize(pE), vectorize(pC)\n",
    "        \n",
    "    \n",
    "    def param2spec(self, P): \n",
    "        spec = OrderedDict()\n",
    "\n",
    "        # forward: a\n",
    "        if 'a' in P:\n",
    "            spec['ampl'] = jnp.exp(P['a'])\n",
    "\n",
    "        # forward: f\n",
    "        if 'f' in P:\n",
    "            spec['freq'] = self.freqs[:, [0]] + (0.5 + 0.5 * jnp.tanh(P['f'])) * (self.W)\n",
    "\n",
    "        # forward: S\n",
    "        if 'S' in P:\n",
    "            spec['fwhm'] = jnp.sqrt(jnp.exp(P['S']) * self.S * 8 * jnp.log(2))\n",
    "\n",
    "        # forward: b\n",
    "        if 'b' in P:\n",
    "            spec['noise'] = jnp.array([jnp.exp(P['b'])[0], -jnp.exp(P['b'])[1]])\n",
    "\n",
    "        return spec\n",
    "    \n",
    "    def spec2param(self, **spec):\n",
    "        try: \n",
    "            P = spec.pop('P')\n",
    "        except:\n",
    "            P = self._pStruct\n",
    "\n",
    "        # forward: a = exp(P.a);\n",
    "        if 'ampl' in spec:\n",
    "            if jnp.any(spec['ampl'] < 0):\n",
    "                print('Warning: Negative amplitude!')\n",
    "            P['a'] = jnp.log(spec['ampl'])\n",
    "\n",
    "        # forward: f = M.pV.f[:, 1] + (0.5 + 0.5 * tanh(P.f)) * (M.pV.f[:, 2] - M.pV.f[:, 1]);\n",
    "        if 'freq' in spec:\n",
    "            if jnp.any(spec['freq'] < 0):\n",
    "                print('Warning: Negative frequency!')\n",
    "            P['f'] = jnp.arctanh(2 * (spec['freq'] - self.freqs[:, 0]) / (self.W) - 1)\n",
    "\n",
    "        # forward: S = exp(P.S) * M.pV.S;\n",
    "        if 'fwhm' in spec:\n",
    "            if jnp.any(spec['fwhm'] < 0):\n",
    "                print('Warning: Negative FWHM!')\n",
    "            S = (spec['fwhm'] ** 2) / (8 * jnp.log(2))\n",
    "            P['S'] = jnp.log(S) - jnp.log(self.S)\n",
    "\n",
    "        # forward: b = exp(P.b) * M.pV.b;\n",
    "        if 'noise' in spec:\n",
    "            P['b'] = jnp.log(jnp.abs(spec['noise']))\n",
    "\n",
    "        return P\n",
    "        \n",
    "    def forward(self, p):\n",
    "        p = unvectorize(p, self._pStruct)\n",
    "        spec = self.param2spec(p)\n",
    "\n",
    "        f = spec['freq']; \n",
    "        a = spec['ampl']; \n",
    "        S = spec['fwhm']**2/(8 * jnp.log(2)); \n",
    "        b = spec['noise']; \n",
    "        print(S.shape, f.shape)\n",
    "        Hc = jnp.vecdot(a, jnp.exp(-(self.Hz.reshape((1,-1))- f)**2/(2*S)), axis=0)\n",
    "        Hc +=  b[0] * self.Hz**b[1]\n",
    "        \n",
    "        return Hc\n",
    "        "
   ]
  },
  {
   "cell_type": "code",
   "execution_count": 46,
   "id": "2a77faa1",
   "metadata": {},
   "outputs": [
    {
     "name": "stdout",
     "output_type": "stream",
     "text": [
      "(3, 2)\n",
      "OrderedDict([('f', Array([[0],\n",
      "       [0],\n",
      "       [0]], dtype=int32)), ('S', Array([[0.],\n",
      "       [0.],\n",
      "       [0.]], dtype=float32, weak_type=True)), ('a', Array([[0],\n",
      "       [0],\n",
      "       [0]], dtype=int32)), ('b', Array([[0.],\n",
      "       [0.]], dtype=float32))])\n",
      "(3, 1) (3, 1)\n"
     ]
    }
   ],
   "source": [
    "Hz = [*range(1,32)]\n",
    "freqs = [[8, 12], [14,24]]\n",
    "\n",
    "bsd = BSD(Hz, freqs, atol=5e-1)"
   ]
  },
  {
   "cell_type": "code",
   "execution_count": 47,
   "id": "4b46d396",
   "metadata": {},
   "outputs": [],
   "source": [
    "P = vectorize(bsd.spec2param(ampl=np.array([1, 0.5])))"
   ]
  },
  {
   "cell_type": "code",
   "execution_count": 49,
   "id": "23df1f84",
   "metadata": {},
   "outputs": [
    {
     "name": "stdout",
     "output_type": "stream",
     "text": [
      "OrderedDict([('f', Array([[0],\n",
      "       [0],\n",
      "       [0]], dtype=int32)), ('S', Array([[0.],\n",
      "       [0.],\n",
      "       [0.]], dtype=float32, weak_type=True)), ('a', Array([ 0.       , -0.6931472], dtype=float32)), ('b', Array([[0.],\n",
      "       [0.]], dtype=float32))])\n",
      "(3, 1) (3, 1)\n"
     ]
    },
    {
     "ename": "ValueError",
     "evalue": "axes must match; got shapes (2,) and (3, 31) with axis=0",
     "output_type": "error",
     "traceback": [
      "\u001b[0;31m---------------------------------------------------------------------------\u001b[0m",
      "\u001b[0;31mValueError\u001b[0m                                Traceback (most recent call last)",
      "Input \u001b[0;32mIn [49]\u001b[0m, in \u001b[0;36m<cell line: 1>\u001b[0;34m()\u001b[0m\n\u001b[0;32m----> 1\u001b[0m Y \u001b[38;5;241m=\u001b[39m \u001b[43mbsd\u001b[49m\u001b[38;5;241;43m.\u001b[39;49m\u001b[43mforward\u001b[49m\u001b[43m(\u001b[49m\u001b[43mP\u001b[49m\u001b[43m)\u001b[49m\u001b[38;5;241m+\u001b[39m\u001b[38;5;241m0.1\u001b[39m\u001b[38;5;241m*\u001b[39mnp\u001b[38;5;241m.\u001b[39mrandom\u001b[38;5;241m.\u001b[39mnormal(size\u001b[38;5;241m=\u001b[39mbsd\u001b[38;5;241m.\u001b[39mHz\u001b[38;5;241m.\u001b[39mshape)\u001b[38;5;241m*\u001b[39m\u001b[38;5;241m*\u001b[39m\u001b[38;5;241m2\u001b[39m\n",
      "File \u001b[0;32m~/prog/python/pybsd/pybsd/VariationalLaplaceEstimator.py:38\u001b[0m, in \u001b[0;36mVariationalLaplaceEstimator._checkset_forward.<locals>.<lambda>\u001b[0;34m(x)\u001b[0m\n\u001b[1;32m     36\u001b[0m \u001b[38;5;28;01mif\u001b[39;00m \u001b[38;5;28mlen\u001b[39m(\u001b[38;5;28mself\u001b[39m\u001b[38;5;241m.\u001b[39m_y0\u001b[38;5;241m.\u001b[39mshape) \u001b[38;5;241m==\u001b[39m \u001b[38;5;241m1\u001b[39m:\n\u001b[1;32m     37\u001b[0m     \u001b[38;5;28mself\u001b[39m\u001b[38;5;241m.\u001b[39m_forward \u001b[38;5;241m=\u001b[39m \u001b[38;5;28mself\u001b[39m\u001b[38;5;241m.\u001b[39mforward\n\u001b[0;32m---> 38\u001b[0m     \u001b[38;5;28mself\u001b[39m\u001b[38;5;241m.\u001b[39mforward \u001b[38;5;241m=\u001b[39m \u001b[38;5;28;01mlambda\u001b[39;00m x: \u001b[38;5;28;43mself\u001b[39;49m\u001b[38;5;241;43m.\u001b[39;49m\u001b[43m_forward\u001b[49m\u001b[43m(\u001b[49m\u001b[43mx\u001b[49m\u001b[43m)\u001b[49m\u001b[38;5;241m.\u001b[39mreshape((\u001b[38;5;241m1\u001b[39m, \u001b[38;5;28mself\u001b[39m\u001b[38;5;241m.\u001b[39m_ny))\n\u001b[1;32m     39\u001b[0m     \u001b[38;5;28mself\u001b[39m\u001b[38;5;241m.\u001b[39m_nb \u001b[38;5;241m=\u001b[39m \u001b[38;5;241m1\u001b[39m\n\u001b[1;32m     40\u001b[0m \u001b[38;5;28;01melse\u001b[39;00m:\n",
      "Input \u001b[0;32mIn [45]\u001b[0m, in \u001b[0;36mBSD.forward\u001b[0;34m(self, p)\u001b[0m\n\u001b[1;32m    112\u001b[0m b \u001b[38;5;241m=\u001b[39m spec[\u001b[38;5;124m'\u001b[39m\u001b[38;5;124mnoise\u001b[39m\u001b[38;5;124m'\u001b[39m]; \n\u001b[1;32m    113\u001b[0m \u001b[38;5;28mprint\u001b[39m(S\u001b[38;5;241m.\u001b[39mshape, f\u001b[38;5;241m.\u001b[39mshape)\n\u001b[0;32m--> 114\u001b[0m Hc \u001b[38;5;241m=\u001b[39m \u001b[43mjnp\u001b[49m\u001b[38;5;241;43m.\u001b[39;49m\u001b[43mvecdot\u001b[49m\u001b[43m(\u001b[49m\u001b[43ma\u001b[49m\u001b[43m,\u001b[49m\u001b[43m \u001b[49m\u001b[43mjnp\u001b[49m\u001b[38;5;241;43m.\u001b[39;49m\u001b[43mexp\u001b[49m\u001b[43m(\u001b[49m\u001b[38;5;241;43m-\u001b[39;49m\u001b[43m(\u001b[49m\u001b[38;5;28;43mself\u001b[39;49m\u001b[38;5;241;43m.\u001b[39;49m\u001b[43mHz\u001b[49m\u001b[38;5;241;43m.\u001b[39;49m\u001b[43mreshape\u001b[49m\u001b[43m(\u001b[49m\u001b[43m(\u001b[49m\u001b[38;5;241;43m1\u001b[39;49m\u001b[43m,\u001b[49m\u001b[38;5;241;43m-\u001b[39;49m\u001b[38;5;241;43m1\u001b[39;49m\u001b[43m)\u001b[49m\u001b[43m)\u001b[49m\u001b[38;5;241;43m-\u001b[39;49m\u001b[43m \u001b[49m\u001b[43mf\u001b[49m\u001b[43m)\u001b[49m\u001b[38;5;241;43m*\u001b[39;49m\u001b[38;5;241;43m*\u001b[39;49m\u001b[38;5;241;43m2\u001b[39;49m\u001b[38;5;241;43m/\u001b[39;49m\u001b[43m(\u001b[49m\u001b[38;5;241;43m2\u001b[39;49m\u001b[38;5;241;43m*\u001b[39;49m\u001b[43mS\u001b[49m\u001b[43m)\u001b[49m\u001b[43m)\u001b[49m\u001b[43m,\u001b[49m\u001b[43m \u001b[49m\u001b[43maxis\u001b[49m\u001b[38;5;241;43m=\u001b[39;49m\u001b[38;5;241;43m0\u001b[39;49m\u001b[43m)\u001b[49m\n\u001b[1;32m    115\u001b[0m Hc \u001b[38;5;241m+\u001b[39m\u001b[38;5;241m=\u001b[39m  b[\u001b[38;5;241m0\u001b[39m] \u001b[38;5;241m*\u001b[39m \u001b[38;5;28mself\u001b[39m\u001b[38;5;241m.\u001b[39mHz\u001b[38;5;241m*\u001b[39m\u001b[38;5;241m*\u001b[39mb[\u001b[38;5;241m1\u001b[39m]\n\u001b[1;32m    117\u001b[0m \u001b[38;5;28;01mreturn\u001b[39;00m Hc\n",
      "File \u001b[0;32m~/anaconda3/lib/python3.9/site-packages/jax/_src/numpy/lax_numpy.py:4797\u001b[0m, in \u001b[0;36mvecdot\u001b[0;34m(x1, x2, axis, precision, preferred_element_type)\u001b[0m\n\u001b[1;32m   4795\u001b[0m x1_arr, x2_arr \u001b[38;5;241m=\u001b[39m asarray(x1), asarray(x2)\n\u001b[1;32m   4796\u001b[0m \u001b[38;5;28;01mif\u001b[39;00m x1_arr\u001b[38;5;241m.\u001b[39mshape[axis] \u001b[38;5;241m!=\u001b[39m x2_arr\u001b[38;5;241m.\u001b[39mshape[axis]:\n\u001b[0;32m-> 4797\u001b[0m   \u001b[38;5;28;01mraise\u001b[39;00m \u001b[38;5;167;01mValueError\u001b[39;00m(\u001b[38;5;124mf\u001b[39m\u001b[38;5;124m\"\u001b[39m\u001b[38;5;124maxes must match; got shapes \u001b[39m\u001b[38;5;132;01m{\u001b[39;00mx1_arr\u001b[38;5;241m.\u001b[39mshape\u001b[38;5;132;01m}\u001b[39;00m\u001b[38;5;124m and \u001b[39m\u001b[38;5;132;01m{\u001b[39;00mx2_arr\u001b[38;5;241m.\u001b[39mshape\u001b[38;5;132;01m}\u001b[39;00m\u001b[38;5;124m with \u001b[39m\u001b[38;5;132;01m{\u001b[39;00maxis\u001b[38;5;132;01m=}\u001b[39;00m\u001b[38;5;124m\"\u001b[39m)\n\u001b[1;32m   4798\u001b[0m x1_arr \u001b[38;5;241m=\u001b[39m jax\u001b[38;5;241m.\u001b[39mnumpy\u001b[38;5;241m.\u001b[39mmoveaxis(x1_arr, axis, \u001b[38;5;241m-\u001b[39m\u001b[38;5;241m1\u001b[39m)\n\u001b[1;32m   4799\u001b[0m x2_arr \u001b[38;5;241m=\u001b[39m jax\u001b[38;5;241m.\u001b[39mnumpy\u001b[38;5;241m.\u001b[39mmoveaxis(x2_arr, axis, \u001b[38;5;241m-\u001b[39m\u001b[38;5;241m1\u001b[39m)\n",
      "\u001b[0;31mValueError\u001b[0m: axes must match; got shapes (2,) and (3, 31) with axis=0"
     ]
    }
   ],
   "source": [
    "Y = bsd.forward(P)+0.1*np.random.normal(size=bsd.Hz.shape)**2"
   ]
  },
  {
   "cell_type": "code",
   "execution_count": 25,
   "id": "32356d70",
   "metadata": {},
   "outputs": [
    {
     "data": {
      "text/plain": [
       "[<matplotlib.lines.Line2D at 0x79328333f8b0>]"
      ]
     },
     "execution_count": 25,
     "metadata": {},
     "output_type": "execute_result"
    },
    {
     "data": {
      "image/png": "[encoded data removed]",
      "text/plain": [
       "<Figure size 432x288 with 1 Axes>"
      ]
     },
     "metadata": {
      "needs_background": "light"
     },
     "output_type": "display_data"
    }
   ],
   "source": [
    "import matplotlib.pyplot as plt\n",
    "plt.plot(bsd.Hz, Y.squeeze())"
   ]
  },
  {
   "cell_type": "code",
   "execution_count": 28,
   "id": "e55bd157",
   "metadata": {},
   "outputs": [
    {
     "name": "stdout",
     "output_type": "stream",
     "text": [
      "EM: (+) 0: F-F0: 0.00e+00 dF (predicted): 0.00e+00 (actual): 2.30e-01 (2.09 ms)\n",
      "EM: (+) 1: F-F0: 2.30e-01 dF (predicted): 0.00e+00 (actual): 5.49e-04 (2.21 ms)\n",
      "EM: (+) 2: F-F0: 2.30e-01 dF (predicted): 0.00e+00 (actual): -5.49e-04 (5.43 ms)\n",
      "EM: (-) 3: F-F0: 2.30e-01 dF (predicted): 0.00e+00 (actual): -5.49e-04 (1.96 ms)\n",
      "EM: (-) 4: F-F0: 2.30e-01 dF (predicted): 0.00e+00 convergence.\n"
     ]
    }
   ],
   "source": [
    "res = bsd.fit(Y, qE=bsd._pE)"
   ]
  },
  {
   "cell_type": "code",
   "execution_count": 29,
   "id": "1b1e522c",
   "metadata": {},
   "outputs": [
    {
     "data": {
      "text/plain": [
       "[<matplotlib.lines.Line2D at 0x7932783caa00>]"
      ]
     },
     "execution_count": 29,
     "metadata": {},
     "output_type": "execute_result"
    },
    {
     "data": {
      "image/png": "[encoded data removed]",
      "text/plain": [
       "<Figure size 432x288 with 1 Axes>"
      ]
     },
     "metadata": {
      "needs_background": "light"
     },
     "output_type": "display_data"
    }
   ],
   "source": [
    "import matplotlib.pyplot as plt\n",
    "plt.plot(bsd.Hz, bsd.forward(res['Ep']).squeeze())"
   ]
  }
 ],
 "metadata": {
  "kernelspec": {
   "display_name": "Python 3 (ipykernel)",
   "language": "python",
   "name": "python3"
  },
  "language_info": {
   "codemirror_mode": {
    "name": "ipython",
    "version": 3
   },
   "file_extension": ".py",
   "mimetype": "text/x-python",
   "name": "python",
   "nbconvert_exporter": "python",
   "pygments_lexer": "ipython3",
   "version": "3.9.12"
  }
 },
 "nbformat": 4,
 "nbformat_minor": 5
}
