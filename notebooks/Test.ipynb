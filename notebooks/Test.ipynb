{
 "cells": [
  {
   "cell_type": "code",
   "execution_count": 1,
   "id": "0f38ed24",
   "metadata": {},
   "outputs": [],
   "source": [
    "from pybsd import VariationalLaplaceEstimator\n",
    "import numpy as np\n",
    "from jax import numpy as jnp \n",
    "from jax import grad, hessian, jit"
   ]
  },
  {
   "cell_type": "code",
   "execution_count": 2,
   "id": "4f2364ed",
   "metadata": {},
   "outputs": [],
   "source": [
    "class Test(VariationalLaplaceEstimator):\n",
    "    def forward(self, p):\n",
    "        return p**2 - 4"
   ]
  },
  {
   "cell_type": "code",
   "execution_count": 3,
   "id": "b48ec2f8",
   "metadata": {},
   "outputs": [
    {
     "name": "stderr",
     "output_type": "stream",
     "text": [
      "An NVIDIA GPU may be present on this machine, but a CUDA-enabled jaxlib is not installed. Falling back to cpu.\n"
     ]
    }
   ],
   "source": [
    "N = 100\n",
    "pE = jnp.zeros(N)-1.2\n",
    "pC = jnp.ones((N,))*1e3\n",
    "hE = jnp.ones(1)+10\n",
    "hC = jnp.ones((1,))*1/128\n",
    "Q  = jnp.eye(N).reshape((1,N,N))*3*N\n",
    "t = Test(pE, pC, hE, hC, Q, rtol=1e-16)"
   ]
  },
  {
   "cell_type": "code",
   "execution_count": 4,
   "id": "f08aaa4d",
   "metadata": {},
   "outputs": [],
   "source": [
    "y = jnp.zeros((1,N))+np.random.normal(0,0.001,(3*N,N))"
   ]
  },
  {
   "cell_type": "code",
   "execution_count": 5,
   "id": "2e4e3416",
   "metadata": {},
   "outputs": [
    {
     "name": "stdout",
     "output_type": "stream",
     "text": [
      "EM: (+) 0: F-F0: 0.00e+00 dF (predicted): 3.99e-07 (actual): 1.61e+09 (31.54 ms)\n",
      "EM: (+) 1: F-F0: 1.61e+09 dF (predicted): 1.72e+04 (actual): 5.33e+05 (27.05 ms)\n",
      "EM: (+) 2: F-F0: 1.61e+09 dF (predicted): 2.94e+08 (actual): -3.88e+10 (30.63 ms)\n",
      "EM: (-) 3: F-F0: 1.61e+09 dF (predicted): 4.12e+07 (actual): -1.67e+07 (32.35 ms)\n",
      "EM: (-) 4: F-F0: 1.61e+09 dF (predicted): 5.61e+06 (actual): -3.22e+04 (31.41 ms)\n",
      "EM: (-) 5: F-F0: 1.61e+09 dF (predicted): 7.59e+05 (actual): -5.58e+03 (24.69 ms)\n",
      "EM: (-) 6: F-F0: 1.61e+09 dF (predicted): 1.03e+05 (actual): 2.66e+03 (16.63 ms)\n",
      "EM: (+) 7: F-F0: 1.61e+09 dF (predicted): 2.04e+03 (actual): 3.67e+02 (13.29 ms)\n",
      "EM: (+) 8: F-F0: 1.61e+09 dF (predicted): 1.79e+03 (actual): 4.43e+02 (13.71 ms)\n",
      "EM: (+) 9: F-F0: 1.61e+09 dF (predicted): 1.37e+03 (actual): 4.98e+02 (12.53 ms)\n",
      "EM: (+) 10: F-F0: 1.61e+09 dF (predicted): 9.42e+02 (actual): 5.29e+02 (13.02 ms)\n",
      "EM: (+) 11: F-F0: 1.61e+09 dF (predicted): 6.07e+02 (actual): 5.44e+02 (17.36 ms)\n",
      "EM: (+) 12: F-F0: 1.61e+09 dF (predicted): 3.78e+02 (actual): 5.47e+02 (16.97 ms)\n",
      "EM: (+) 13: F-F0: 1.61e+09 dF (predicted): 2.30e+02 (actual): 5.44e+02 (17.20 ms)\n",
      "EM: (+) 14: F-F0: 1.61e+09 dF (predicted): 1.39e+02 (actual): 5.38e+02 (17.09 ms)\n",
      "EM: (+) 15: F-F0: 1.61e+09 dF (predicted): 8.34e+01 (actual): 5.31e+02 (16.46 ms)\n",
      "EM: (+) 16: F-F0: 1.61e+09 dF (predicted): 5.00e+01 (actual): 5.23e+02 (17.25 ms)\n",
      "EM: (+) 17: F-F0: 1.61e+09 dF (predicted): 2.99e+01 (actual): 5.15e+02 (17.21 ms)\n",
      "EM: (+) 18: F-F0: 1.61e+09 dF (predicted): 1.79e+01 (actual): 5.07e+02 (22.55 ms)\n",
      "EM: (+) 19: F-F0: 1.61e+09 dF (predicted): 1.07e+01 (actual): 4.98e+02 (17.01 ms)\n",
      "EM: (+) 20: F-F0: 1.61e+09 dF (predicted): 6.39e+00 (actual): 4.88e+02 (16.27 ms)\n",
      "EM: (+) 21: F-F0: 1.61e+09 dF (predicted): 3.82e+00 (actual): 4.78e+02 (16.58 ms)\n",
      "EM: (+) 22: F-F0: 1.61e+09 dF (predicted): 2.28e+00 (actual): 4.65e+02 (12.60 ms)\n",
      "EM: (+) 23: F-F0: 1.61e+09 dF (predicted): 1.35e+00 (actual): 4.51e+02 (12.33 ms)\n",
      "EM: (+) 24: F-F0: 1.61e+09 dF (predicted): 8.07e-01 (actual): 4.33e+02 (12.48 ms)\n",
      "EM: (+) 25: F-F0: 1.61e+09 dF (predicted): 4.79e-01 (actual): 4.09e+02 (12.96 ms)\n",
      "EM: (+) 26: F-F0: 1.61e+09 dF (predicted): 2.83e-01 (actual): 3.78e+02 (12.80 ms)\n",
      "EM: (+) 27: F-F0: 1.61e+09 dF (predicted): 1.67e-01 (actual): 3.38e+02 (13.04 ms)\n",
      "EM: (+) 28: F-F0: 1.61e+09 dF (predicted): 9.79e-02 (actual): 2.89e+02 (13.22 ms)\n",
      "EM: (+) 29: F-F0: 1.61e+09 dF (predicted): 5.77e-02 (actual): 2.35e+02 (13.10 ms)\n",
      "EM: (+) 30: F-F0: 1.61e+09 dF (predicted): 3.50e-02 (actual): 1.86e+02 (12.19 ms)\n",
      "EM: (+) 31: F-F0: 1.61e+09 dF (predicted): 2.27e-02 (actual): 1.49e+02 (12.97 ms)\n",
      "EM: (+) 32: F-F0: 1.61e+09 dF (predicted): 1.59e-02 (actual): 1.24e+02 (11.70 ms)\n",
      "EM: (+) 33: F-F0: 1.61e+09 dF (predicted): 1.17e-02 (actual): 1.07e+02 (8.78 ms)\n",
      "EM: (+) 34: F-F0: 1.61e+09 dF (predicted): 9.07e-03 (actual): 9.32e+01 (9.09 ms)\n",
      "EM: (+) 35: F-F0: 1.61e+09 dF (predicted): 7.23e-03 (actual): 8.28e+01 (8.61 ms)\n",
      "EM: (+) 36: F-F0: 1.61e+09 dF (predicted): 5.90e-03 (actual): 7.46e+01 (8.83 ms)\n",
      "EM: (+) 37: F-F0: 1.61e+09 dF (predicted): 4.91e-03 (actual): 6.78e+01 (8.59 ms)\n",
      "EM: (+) 38: F-F0: 1.61e+09 dF (predicted): 4.16e-03 (actual): 6.22e+01 (8.94 ms)\n",
      "EM: (+) 39: F-F0: 1.61e+09 dF (predicted): 3.56e-03 (actual): 5.74e+01 (8.71 ms)\n",
      "EM: (+) 40: F-F0: 1.61e+09 dF (predicted): 3.09e-03 (actual): 5.33e+01 (8.77 ms)\n",
      "EM: (+) 41: F-F0: 1.61e+09 dF (predicted): 2.70e-03 (actual): 4.98e+01 (14.62 ms)\n",
      "EM: (+) 42: F-F0: 1.61e+09 dF (predicted): 2.39e-03 (actual): 4.67e+01 (9.21 ms)\n",
      "EM: (+) 43: F-F0: 1.61e+09 dF (predicted): 2.12e-03 (actual): 4.40e+01 (9.38 ms)\n",
      "EM: (+) 44: F-F0: 1.61e+09 dF (predicted): 1.90e-03 (actual): 4.15e+01 (18.32 ms)\n",
      "EM: (+) 45: F-F0: 1.61e+09 dF (predicted): 1.71e-03 (actual): 3.94e+01 (10.35 ms)\n",
      "EM: (+) 46: F-F0: 1.61e+09 dF (predicted): 1.55e-03 (actual): 3.74e+01 (8.57 ms)\n",
      "EM: (+) 47: F-F0: 1.61e+09 dF (predicted): 1.41e-03 (actual): 3.56e+01 (8.16 ms)\n",
      "EM: (+) 48: F-F0: 1.61e+09 dF (predicted): 1.29e-03 (actual): 3.40e+01 (8.46 ms)\n",
      "EM: (+) 49: F-F0: 1.61e+09 dF (predicted): 1.18e-03 (actual): 3.25e+01 (8.33 ms)\n",
      "EM: (+) 50: F-F0: 1.61e+09 dF (predicted): 1.09e-03 (actual): 3.12e+01 (8.22 ms)\n",
      "EM: (+) 51: F-F0: 1.61e+09 dF (predicted): 1.00e-03 (actual): 2.99e+01 (8.27 ms)\n",
      "EM: (+) 52: F-F0: 1.61e+09 dF (predicted): 9.29e-04 (actual): 2.88e+01 (8.20 ms)\n",
      "EM: (+) 53: F-F0: 1.61e+09 dF (predicted): 8.63e-04 (actual): 2.77e+01 (8.41 ms)\n",
      "EM: (+) 54: F-F0: 1.61e+09 dF (predicted): 8.04e-04 (actual): 2.67e+01 (8.67 ms)\n",
      "EM: (+) 55: F-F0: 1.61e+09 dF (predicted): 7.50e-04 (actual): 2.58e+01 (8.48 ms)\n",
      "EM: (+) 56: F-F0: 1.61e+09 dF (predicted): 7.02e-04 convergence.\n"
     ]
    }
   ],
   "source": [
    "res = t.fit(None, y)"
   ]
  },
  {
   "cell_type": "code",
   "execution_count": 6,
   "id": "26aab818",
   "metadata": {},
   "outputs": [
    {
     "data": {
      "text/plain": [
       "Array([[-0.0227623 , -0.02279067, -0.02280784, -0.02283168, -0.02283454,\n",
       "        -0.0228498 , -0.02290487, -0.02275753, -0.02267194, -0.02284122,\n",
       "        -0.02276993, -0.02277708, -0.02279544, -0.02276516, -0.02276707,\n",
       "        -0.02283502, -0.02285266, -0.02278686, -0.0228436 , -0.02286315,\n",
       "        -0.02281404, -0.02275085, -0.0230124 , -0.02282214, -0.02272987,\n",
       "        -0.02282119, -0.02291822, -0.02272558, -0.0228126 , -0.02278328,\n",
       "        -0.02283692, -0.02276468, -0.02283835, -0.02282977, -0.02276325,\n",
       "        -0.0227623 , -0.02284551, -0.0227499 , -0.02284026, -0.02280498,\n",
       "        -0.02278233, -0.02280402, -0.02273846, -0.0228231 , -0.02293968,\n",
       "        -0.02277088, -0.02284598, -0.02277088, -0.02281928, -0.02277279,\n",
       "        -0.02280402, -0.02282214, -0.02288342, -0.02280021, -0.0229373 ,\n",
       "        -0.02284408, -0.02280879, -0.02280879, -0.02287054, -0.02293825,\n",
       "        -0.02272272, -0.02277899, -0.02286744, -0.02284122, -0.02290201,\n",
       "        -0.0229435 , -0.0228622 , -0.02275181, -0.0228126 , -0.02291012,\n",
       "        -0.02277851, -0.0227766 , -0.02278423, -0.02284169, -0.02279544,\n",
       "        -0.02279639, -0.02283788, -0.02271461, -0.02296567, -0.02283263,\n",
       "        -0.02284694, -0.02285361, -0.02285171, -0.02285933, -0.02284074,\n",
       "        -0.02292967, -0.02284551, -0.02282834, -0.02278614, -0.0228107 ,\n",
       "        -0.02286601, -0.02274704, -0.02278185, -0.02280688, -0.02278566,\n",
       "        -0.02275562, -0.02272749, -0.02275562, -0.02279019, -0.0229373 ]],      dtype=float32)"
      ]
     },
     "execution_count": 6,
     "metadata": {},
     "output_type": "execute_result"
    }
   ],
   "source": [
    "t.forward(res['Ep'])"
   ]
  },
  {
   "cell_type": "code",
   "execution_count": 7,
   "id": "af01d412",
   "metadata": {},
   "outputs": [
    {
     "data": {
      "text/plain": [
       "array([-1.20580029e+03, -3.45419312e+02, -8.41641211e+03, -4.00050171e+02,\n",
       "       -3.70290184e+00, -9.28127899e+01])"
      ]
     },
     "execution_count": 7,
     "metadata": {},
     "output_type": "execute_result"
    }
   ],
   "source": [
    "res['L']"
   ]
  },
  {
   "cell_type": "code",
   "execution_count": 8,
   "id": "a1735f3f",
   "metadata": {},
   "outputs": [
    {
     "ename": "ValueError",
     "evalue": "Argument to slogdet() must have shape [..., n, n], got {a_shape}",
     "output_type": "error",
     "traceback": [
      "\u001b[0;31m---------------------------------------------------------------------------\u001b[0m",
      "\u001b[0;31mValueError\u001b[0m                                Traceback (most recent call last)",
      "Input \u001b[0;32mIn [8]\u001b[0m, in \u001b[0;36m<cell line: 14>\u001b[0;34m()\u001b[0m\n\u001b[1;32m     14\u001b[0m \u001b[38;5;28;01mfor\u001b[39;00m i \u001b[38;5;129;01min\u001b[39;00m \u001b[38;5;28mrange\u001b[39m(\u001b[38;5;241m500\u001b[39m):\n\u001b[1;32m     15\u001b[0m     tstart \u001b[38;5;241m=\u001b[39m time\u001b[38;5;241m.\u001b[39mperf_counter_ns()\n\u001b[0;32m---> 16\u001b[0m     dq \u001b[38;5;241m=\u001b[39m \u001b[43mgrad\u001b[49m\u001b[43m(\u001b[49m\u001b[43mt\u001b[49m\u001b[38;5;241;43m.\u001b[39;49m\u001b[43mfree_energy\u001b[49m\u001b[43m,\u001b[49m\u001b[43m \u001b[49m\u001b[43margnums\u001b[49m\u001b[38;5;241;43m=\u001b[39;49m\u001b[38;5;241;43m1\u001b[39;49m\u001b[43m)\u001b[49m\u001b[43m(\u001b[49m\u001b[43my\u001b[49m\u001b[43m,\u001b[49m\u001b[43m \u001b[49m\u001b[43mqE\u001b[49m\u001b[43m,\u001b[49m\u001b[43m \u001b[49m\u001b[43mpC\u001b[49m\u001b[43m,\u001b[49m\u001b[43m \u001b[49m\u001b[43mgE\u001b[49m\u001b[43m,\u001b[49m\u001b[43m \u001b[49m\u001b[43mhC\u001b[49m\u001b[43m)\u001b[49m\n\u001b[1;32m     17\u001b[0m \u001b[38;5;66;03m#     H = hessian(t.free_energy, argnums=1)(y, pE, pC, hE, hC)\u001b[39;00m\n\u001b[1;32m     18\u001b[0m     dg \u001b[38;5;241m=\u001b[39m grad(t\u001b[38;5;241m.\u001b[39mfree_energy, argnums\u001b[38;5;241m=\u001b[39m\u001b[38;5;241m3\u001b[39m)(y, qE, pC, gE, hC)\n",
      "    \u001b[0;31m[... skipping hidden 21 frame]\u001b[0m\n",
      "File \u001b[0;32m~/prog/python/pybsd/pybsd/VariationalLaplaceEstimator.py:193\u001b[0m, in \u001b[0;36mVariationalLaplaceEstimator.free_energy\u001b[0;34m(self, y, qE, qC, gE, gC)\u001b[0m\n\u001b[1;32m    189\u001b[0m \u001b[38;5;28;01mexcept\u001b[39;00m: \n\u001b[1;32m    190\u001b[0m     gE, gC \u001b[38;5;241m=\u001b[39m \u001b[38;5;28mself\u001b[39m\u001b[38;5;241m.\u001b[39m_project(\u001b[38;5;28mself\u001b[39m\u001b[38;5;241m.\u001b[39m_Uh, gE, gC)\n\u001b[0;32m--> 193\u001b[0m logdetqC \u001b[38;5;241m=\u001b[39m \u001b[43mjnp\u001b[49m\u001b[38;5;241;43m.\u001b[39;49m\u001b[43mlinalg\u001b[49m\u001b[38;5;241;43m.\u001b[39;49m\u001b[43mslogdet\u001b[49m\u001b[43m(\u001b[49m\u001b[43mqC\u001b[49m\u001b[43m)\u001b[49m[\u001b[38;5;241m1\u001b[39m]\n\u001b[1;32m    194\u001b[0m logdetgC \u001b[38;5;241m=\u001b[39m jnp\u001b[38;5;241m.\u001b[39mlinalg\u001b[38;5;241m.\u001b[39mslogdet(gC)[\u001b[38;5;241m1\u001b[39m]\n\u001b[1;32m    196\u001b[0m \u001b[38;5;66;03m# Log joint  \u001b[39;00m\n\u001b[1;32m    197\u001b[0m \u001b[38;5;66;03m# ---------\u001b[39;00m\n",
      "    \u001b[0;31m[... skipping hidden 11 frame]\u001b[0m\n",
      "File \u001b[0;32m~/anaconda3/lib/python3.9/site-packages/jax/_src/numpy/linalg.py:532\u001b[0m, in \u001b[0;36mslogdet\u001b[0;34m(a, method)\u001b[0m\n\u001b[1;32m    530\u001b[0m a_shape \u001b[38;5;241m=\u001b[39m jnp\u001b[38;5;241m.\u001b[39mshape(a)\n\u001b[1;32m    531\u001b[0m \u001b[38;5;28;01mif\u001b[39;00m \u001b[38;5;28mlen\u001b[39m(a_shape) \u001b[38;5;241m<\u001b[39m \u001b[38;5;241m2\u001b[39m \u001b[38;5;129;01mor\u001b[39;00m a_shape[\u001b[38;5;241m-\u001b[39m\u001b[38;5;241m1\u001b[39m] \u001b[38;5;241m!=\u001b[39m a_shape[\u001b[38;5;241m-\u001b[39m\u001b[38;5;241m2\u001b[39m]:\n\u001b[0;32m--> 532\u001b[0m   \u001b[38;5;28;01mraise\u001b[39;00m \u001b[38;5;167;01mValueError\u001b[39;00m(\u001b[38;5;124m\"\u001b[39m\u001b[38;5;124mArgument to slogdet() must have shape [..., n, n], got \u001b[39m\u001b[38;5;132;01m{a_shape}\u001b[39;00m\u001b[38;5;124m\"\u001b[39m)\n\u001b[1;32m    533\u001b[0m \u001b[38;5;28;01mif\u001b[39;00m method \u001b[38;5;129;01mis\u001b[39;00m \u001b[38;5;28;01mNone\u001b[39;00m \u001b[38;5;129;01mor\u001b[39;00m method \u001b[38;5;241m==\u001b[39m \u001b[38;5;124m\"\u001b[39m\u001b[38;5;124mlu\u001b[39m\u001b[38;5;124m\"\u001b[39m:\n\u001b[1;32m    534\u001b[0m   \u001b[38;5;28;01mreturn\u001b[39;00m SlogdetResult(\u001b[38;5;241m*\u001b[39m_slogdet_lu(a))\n",
      "\u001b[0;31mValueError\u001b[0m: Argument to slogdet() must have shape [..., n, n], got {a_shape}"
     ]
    }
   ],
   "source": [
    "import time\n",
    "def format_time(ns):\n",
    "    if ns < 1e3:  # Less than microsecond\n",
    "        return f\"{ns:.2f} ns\"\n",
    "    elif ns < 1e6:  # Less than millisecond\n",
    "        return f\"{ns * 1e-3:.2f} µs\"\n",
    "    elif ns < 1e9:  # Less than second\n",
    "        return f\"{ns * 1e-6:.2f} ms\"\n",
    "    else:  \n",
    "        return f\"{ns * 1e-9:.2f} s\"\n",
    "\n",
    "qE = pE\n",
    "gE = hE\n",
    "for i in range(500):\n",
    "    tstart = time.perf_counter_ns()\n",
    "    dq = grad(t.free_energy, argnums=1)(y, qE, pC, gE, hC)\n",
    "#     H = hessian(t.free_energy, argnums=1)(y, pE, pC, hE, hC)\n",
    "    dg = grad(t.free_energy, argnums=3)(y, qE, pC, gE, hC)\n",
    "    qE += 0.000001*dq\n",
    "#     print(qE)\n",
    "    gE += 0.00001*dg\n",
    "    print(format_time(time.perf_counter_ns() - tstart))\n",
    "print(qE)"
   ]
  },
  {
   "cell_type": "code",
   "execution_count": null,
   "id": "7c04d6af",
   "metadata": {},
   "outputs": [],
   "source": []
  }
 ],
 "metadata": {
  "kernelspec": {
   "display_name": "Python 3 (ipykernel)",
   "language": "python",
   "name": "python3"
  },
  "language_info": {
   "codemirror_mode": {
    "name": "ipython",
    "version": 3
   },
   "file_extension": ".py",
   "mimetype": "text/x-python",
   "name": "python",
   "nbconvert_exporter": "python",
   "pygments_lexer": "ipython3",
   "version": "3.9.12"
  }
 },
 "nbformat": 4,
 "nbformat_minor": 5
}
