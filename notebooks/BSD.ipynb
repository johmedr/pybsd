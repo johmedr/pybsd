{
 "cells": [
  {
   "cell_type": "code",
   "execution_count": 1,
   "id": "21f534fc",
   "metadata": {},
   "outputs": [],
   "source": [
    "from pybsd import *\n",
    "import numpy as np\n",
    "from jax import numpy as jnp \n",
    "from jax import grad, hessian, jit\n",
    "from collections import OrderedDict"
   ]
  },
  {
   "cell_type": "code",
   "execution_count": 52,
   "id": "984b2162",
   "metadata": {},
   "outputs": [],
   "source": [
    "class BSD(VariationalLaplaceEstimator):\n",
    "    def __init__(self, Hz, freqs, *args, **kwargs): \n",
    "        pE, pC = self._prepare(freqs)\n",
    "        self.Hz = jnp.asarray(Hz)\n",
    "        \n",
    "        hE = jnp.array([10])\n",
    "        hC = jnp.array([1/256])\n",
    "        Q = jnp.eye(self.Hz.size)\n",
    "        \n",
    "        super().__init__(pE, pC, hE, hC, Q, *args, **kwargs)\n",
    "        \n",
    "    def _prepare(self, freqs):\n",
    "        freqs = jnp.asarray(freqs)\n",
    "        \n",
    "        if len(freqs.shape) == 1:\n",
    "            freqs = jnp.expand_dims(freqs, 0)\n",
    "            \n",
    "        if freqs.shape[1] != 2: \n",
    "            raise ValueError(f'Incorrect number of dimensions on frequency array.'\n",
    "                             f' Expecting (nfreqs, 2), got {freqs.shape}.')\n",
    "        \n",
    "        nf = freqs.shape[0]\n",
    "        W = (freqs[:, 1] - freqs[:, 0]).reshape((-1,1))\n",
    "        S = W**2 / (8 * jnp.log(2))\n",
    "        \n",
    "        self.freqs = freqs\n",
    "        self.nf = nf\n",
    "        self.S = S\n",
    "        self.W = W\n",
    "        \n",
    "        a = 0 * W\n",
    "        b = jnp.zeros((2,1))\n",
    "        \n",
    "        pE = OrderedDict(\n",
    "            f=0*W,\n",
    "            S=0*S, \n",
    "            a=a, \n",
    "            b=b\n",
    "        )\n",
    "        pC = OrderedDict(\n",
    "            f=0*W + 1,\n",
    "            S=0*S + 2, \n",
    "            a=0*a + 2, \n",
    "            b=0*b + 1\n",
    "         )\n",
    "        self._pStruct = pE\n",
    "        \n",
    "        return vectorize(pE), vectorize(pC)\n",
    "        \n",
    "    \n",
    "    def param2spec(self, P): \n",
    "        spec = OrderedDict()\n",
    "\n",
    "        # forward: a\n",
    "        if 'a' in P:\n",
    "            spec['ampl'] = jnp.exp(P['a'])\n",
    "\n",
    "        # forward: f\n",
    "        if 'f' in P:\n",
    "            spec['freq'] = self.freqs[:, [0]] + (0.5 + 0.5 * jnp.tanh(P['f'])) * (self.W)\n",
    "\n",
    "        # forward: S\n",
    "        if 'S' in P:\n",
    "            spec['fwhm'] = jnp.sqrt(jnp.exp(P['S']) * self.S * 8 * jnp.log(2))\n",
    "\n",
    "        # forward: b\n",
    "        if 'b' in P:\n",
    "            spec['noise'] = jnp.array([jnp.exp(P['b'])[0], -jnp.exp(P['b'])[1]])\n",
    "\n",
    "        return spec\n",
    "    \n",
    "    def spec2param(self, **spec):\n",
    "        try: \n",
    "            P = spec.pop('P')\n",
    "        except:\n",
    "            P = self._pStruct\n",
    "\n",
    "        # forward: a = exp(P.a);\n",
    "        if 'ampl' in spec:\n",
    "            if jnp.any(spec['ampl'] < 0):\n",
    "                print('Warning: Negative amplitude!')\n",
    "            P['a'] = jnp.log(spec['ampl'])\n",
    "\n",
    "        # forward: f = M.pV.f[:, 1] + (0.5 + 0.5 * tanh(P.f)) * (M.pV.f[:, 2] - M.pV.f[:, 1]);\n",
    "        if 'freq' in spec:\n",
    "            if jnp.any(spec['freq'] < 0):\n",
    "                print('Warning: Negative frequency!')\n",
    "            P['f'] = jnp.arctanh(2 * (spec['freq'] - self.freqs[:, 0]) / (self.W) - 1)\n",
    "\n",
    "        # forward: S = exp(P.S) * M.pV.S;\n",
    "        if 'fwhm' in spec:\n",
    "            if jnp.any(spec['fwhm'] < 0):\n",
    "                print('Warning: Negative FWHM!')\n",
    "            S = (spec['fwhm'] ** 2) / (8 * jnp.log(2))\n",
    "            P['S'] = jnp.log(S) - jnp.log(self.S)\n",
    "\n",
    "        # forward: b = exp(P.b) * M.pV.b;\n",
    "        if 'noise' in spec:\n",
    "            P['b'] = jnp.log(jnp.abs(spec['noise']))\n",
    "\n",
    "        return P\n",
    "        \n",
    "    def forward(self, p):\n",
    "        p = unvectorize(p, self._pStruct)\n",
    "        spec = self.param2spec(p)\n",
    "\n",
    "        f = spec['freq']; \n",
    "        a = spec['ampl']; \n",
    "        S = spec['fwhm']**2/(8 * jnp.log(2)); \n",
    "        b = spec['noise']; \n",
    "        Hc = jnp.vecdot(a, jnp.exp(-(self.Hz.reshape((1,-1))- f)**2/(2*S)), axis=0)\n",
    "        Hc +=  b[0] * self.Hz**b[1]\n",
    "        \n",
    "        return Hc\n",
    "        "
   ]
  },
  {
   "cell_type": "code",
   "execution_count": 53,
   "id": "ee41a1e0",
   "metadata": {},
   "outputs": [],
   "source": [
    "Hz = [*range(1,32)]\n",
    "freqs = [[8, 12], [14,24]]\n",
    "\n",
    "bsd = BSD(Hz, freqs, atol=5e-1)"
   ]
  },
  {
   "cell_type": "code",
   "execution_count": 54,
   "id": "aa60185a",
   "metadata": {},
   "outputs": [],
   "source": [
    "P = vectorize(bsd.spec2param(ampl=np.array([1, 0.5])))"
   ]
  },
  {
   "cell_type": "code",
   "execution_count": 55,
   "id": "a00fc9c6",
   "metadata": {},
   "outputs": [],
   "source": [
    "Y = bsd.forward(P)+0.1*np.random.normal(size=bsd.Hz.shape)**2"
   ]
  },
  {
   "cell_type": "code",
   "execution_count": 56,
   "id": "f8909853",
   "metadata": {},
   "outputs": [
    {
     "data": {
      "text/plain": [
       "[<matplotlib.lines.Line2D at 0x79321873c490>]"
      ]
     },
     "execution_count": 56,
     "metadata": {},
     "output_type": "execute_result"
    },
    {
     "data": {
      "image/png": "[encoded data removed]",
      "text/plain": [
       "<Figure size 432x288 with 1 Axes>"
      ]
     },
     "metadata": {
      "needs_background": "light"
     },
     "output_type": "display_data"
    }
   ],
   "source": [
    "import matplotlib.pyplot as plt\n",
    "plt.plot(bsd.Hz, Y.squeeze())"
   ]
  },
  {
   "cell_type": "code",
   "execution_count": 57,
   "id": "0f68e53f",
   "metadata": {},
   "outputs": [
    {
     "name": "stdout",
     "output_type": "stream",
     "text": [
      "EM: (+) 0: F-F0: 0.00e+00 dF (predicted): 0.00e+00 (actual): 1.13e+01 (2.74 ms)\n",
      "EM: (+) 1: F-F0: 1.13e+01 dF (predicted): 0.00e+00 (actual): 6.92e-02 (2.01 ms)\n",
      "EM: (+) 2: F-F0: 1.14e+01 dF (predicted): 0.00e+00 (actual): 0.00e+00 (1.91 ms)\n",
      "EM: (-) 3: F-F0: 1.14e+01 dF (predicted): 0.00e+00 (actual): 0.00e+00 (1.91 ms)\n",
      "EM: (-) 4: F-F0: 1.14e+01 dF (predicted): 0.00e+00 convergence.\n"
     ]
    }
   ],
   "source": [
    "res = bsd.fit(Y, qE=bsd._pE)"
   ]
  },
  {
   "cell_type": "code",
   "execution_count": 58,
   "id": "96658fa3",
   "metadata": {},
   "outputs": [
    {
     "data": {
      "text/plain": [
       "[<matplotlib.lines.Line2D at 0x79321864e9d0>]"
      ]
     },
     "execution_count": 58,
     "metadata": {},
     "output_type": "execute_result"
    },
    {
     "data": {
      "image/png": "[encoded data removed]",
      "text/plain": [
       "<Figure size 432x288 with 1 Axes>"
      ]
     },
     "metadata": {
      "needs_background": "light"
     },
     "output_type": "display_data"
    }
   ],
   "source": [
    "import matplotlib.pyplot as plt\n",
    "plt.plot(bsd.Hz, bsd.forward(res['Ep']).squeeze())"
   ]
  }
 ],
 "metadata": {
  "kernelspec": {
   "display_name": "Python 3 (ipykernel)",
   "language": "python",
   "name": "python3"
  },
  "language_info": {
   "codemirror_mode": {
    "name": "ipython",
    "version": 3
   },
   "file_extension": ".py",
   "mimetype": "text/x-python",
   "name": "python",
   "nbconvert_exporter": "python",
   "pygments_lexer": "ipython3",
   "version": "3.9.12"
  }
 },
 "nbformat": 4,
 "nbformat_minor": 5
}
